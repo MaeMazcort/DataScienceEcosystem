{
  "cells": [
    {
      "cell_type": "markdown",
      "metadata": {
        "id": "view-in-github",
        "colab_type": "text"
      },
      "source": [
        "<a href=\"https://colab.research.google.com/github/MaeMazcort/DataScienceEcosystem/blob/main/datascienceecosystem.ipynb\" target=\"_parent\"><img src=\"https://colab.research.google.com/assets/colab-badge.svg\" alt=\"Open In Colab\"/></a>"
      ]
    },
    {
      "cell_type": "markdown",
      "metadata": {
        "id": "XKEJecdowULu"
      },
      "source": [
        "### Nina Maeva Mazadiego Cortés - 174780"
      ]
    },
    {
      "cell_type": "code",
      "execution_count": null,
      "metadata": {
        "id": "TBTfi_kcwULu"
      },
      "outputs": [],
      "source": [
        "import pandas as pd\n",
        "import numpy as np\n",
        "import matplotlib.pyplot as plt"
      ]
    },
    {
      "cell_type": "code",
      "execution_count": null,
      "metadata": {
        "id": "Wh5mgXIuwULv"
      },
      "outputs": [],
      "source": [
        "data = {\n",
        "'year': [2010, 2011, 2012,\n",
        "2010, 2011, 2012,\n",
        "2010, 2011, 2012],\n",
        "'team': ['FCBarcelona', 'FCBarcelona', 'FCBarcelona',\n",
        "'RMadrid', 'RMadrid', 'RMadrid',\n",
        "'ValenciaCF', 'ValenciaCF', 'ValenciaCF'],\n",
        "'wins': [30, 28, 32, 29, 32, 26, 21, 17, 19],\n",
        "'draws': [6, 7, 4, 5, 4, 7, 8, 10, 8],\n",
        "'losses': [2, 3, 2, 4, 2, 5, 9, 11, 11]\n",
        "}\n",
        "\n",
        "football = pd.DataFrame(data, columns = ['year', 'team', 'wins', 'draws', 'losses'])"
      ]
    },
    {
      "cell_type": "code",
      "execution_count": null,
      "metadata": {
        "id": "U9d5swzgwULv",
        "outputId": "8350d50f-388f-468c-dbd9-be91c440523a"
      },
      "outputs": [
        {
          "data": {
            "text/html": [
              "<div>\n",
              "<style scoped>\n",
              "    .dataframe tbody tr th:only-of-type {\n",
              "        vertical-align: middle;\n",
              "    }\n",
              "\n",
              "    .dataframe tbody tr th {\n",
              "        vertical-align: top;\n",
              "    }\n",
              "\n",
              "    .dataframe thead th {\n",
              "        text-align: right;\n",
              "    }\n",
              "</style>\n",
              "<table border=\"1\" class=\"dataframe\">\n",
              "  <thead>\n",
              "    <tr style=\"text-align: right;\">\n",
              "      <th></th>\n",
              "      <th>TIME</th>\n",
              "      <th>GEO</th>\n",
              "      <th>Value</th>\n",
              "    </tr>\n",
              "  </thead>\n",
              "  <tbody>\n",
              "    <tr>\n",
              "      <th>0</th>\n",
              "      <td>2000</td>\n",
              "      <td>European Union (28 countries)</td>\n",
              "      <td>NaN</td>\n",
              "    </tr>\n",
              "    <tr>\n",
              "      <th>1</th>\n",
              "      <td>2001</td>\n",
              "      <td>European Union (28 countries)</td>\n",
              "      <td>NaN</td>\n",
              "    </tr>\n",
              "    <tr>\n",
              "      <th>2</th>\n",
              "      <td>2002</td>\n",
              "      <td>European Union (28 countries)</td>\n",
              "      <td>5.00</td>\n",
              "    </tr>\n",
              "    <tr>\n",
              "      <th>3</th>\n",
              "      <td>2003</td>\n",
              "      <td>European Union (28 countries)</td>\n",
              "      <td>5.03</td>\n",
              "    </tr>\n",
              "    <tr>\n",
              "      <th>4</th>\n",
              "      <td>2004</td>\n",
              "      <td>European Union (28 countries)</td>\n",
              "      <td>4.95</td>\n",
              "    </tr>\n",
              "    <tr>\n",
              "      <th>...</th>\n",
              "      <td>...</td>\n",
              "      <td>...</td>\n",
              "      <td>...</td>\n",
              "    </tr>\n",
              "    <tr>\n",
              "      <th>379</th>\n",
              "      <td>2007</td>\n",
              "      <td>Finland</td>\n",
              "      <td>5.90</td>\n",
              "    </tr>\n",
              "    <tr>\n",
              "      <th>380</th>\n",
              "      <td>2008</td>\n",
              "      <td>Finland</td>\n",
              "      <td>6.10</td>\n",
              "    </tr>\n",
              "    <tr>\n",
              "      <th>381</th>\n",
              "      <td>2009</td>\n",
              "      <td>Finland</td>\n",
              "      <td>6.81</td>\n",
              "    </tr>\n",
              "    <tr>\n",
              "      <th>382</th>\n",
              "      <td>2010</td>\n",
              "      <td>Finland</td>\n",
              "      <td>6.85</td>\n",
              "    </tr>\n",
              "    <tr>\n",
              "      <th>383</th>\n",
              "      <td>2011</td>\n",
              "      <td>Finland</td>\n",
              "      <td>6.76</td>\n",
              "    </tr>\n",
              "  </tbody>\n",
              "</table>\n",
              "<p>384 rows × 3 columns</p>\n",
              "</div>"
            ],
            "text/plain": [
              "     TIME                            GEO  Value\n",
              "0    2000  European Union (28 countries)    NaN\n",
              "1    2001  European Union (28 countries)    NaN\n",
              "2    2002  European Union (28 countries)   5.00\n",
              "3    2003  European Union (28 countries)   5.03\n",
              "4    2004  European Union (28 countries)   4.95\n",
              "..    ...                            ...    ...\n",
              "379  2007                        Finland   5.90\n",
              "380  2008                        Finland   6.10\n",
              "381  2009                        Finland   6.81\n",
              "382  2010                        Finland   6.85\n",
              "383  2011                        Finland   6.76\n",
              "\n",
              "[384 rows x 3 columns]"
            ]
          },
          "execution_count": 36,
          "metadata": {},
          "output_type": "execute_result"
        }
      ],
      "source": [
        "edu = pd.read_csv('educ_figdp_1_Data.csv', na_values=':', usecols=['TIME', 'GEO', 'Value'])\n",
        "edu"
      ]
    },
    {
      "cell_type": "markdown",
      "metadata": {
        "id": "6QkT6Ha4wULw"
      },
      "source": [
        "### 1) Which is the size of the edu DataFrame (rows x columns)?\n",
        "384 rows × 5 columns"
      ]
    },
    {
      "cell_type": "markdown",
      "metadata": {
        "id": "XfdZb73LwULw"
      },
      "source": [
        "### 2) What happens if we give a number as argument to the method head()?\n",
        "If we provide a number as an argument to the head() method, it returns the first N rows of the DataFrame, where N is the specified number.\n",
        "\n",
        "For example:\n",
        "```python\n",
        "edu_df.head(10)\n",
        "```\n",
        "\n",
        "This will display the first 10 rows of the edu_df DataFrame instead of the default 5 rows (which is the behavior when no argument is provided)."
      ]
    },
    {
      "cell_type": "code",
      "execution_count": null,
      "metadata": {
        "id": "W-9OHOq4wULw",
        "outputId": "2d22454a-1e01-4c16-eaf9-a5267d639efa"
      },
      "outputs": [
        {
          "data": {
            "text/html": [
              "<div>\n",
              "<style scoped>\n",
              "    .dataframe tbody tr th:only-of-type {\n",
              "        vertical-align: middle;\n",
              "    }\n",
              "\n",
              "    .dataframe tbody tr th {\n",
              "        vertical-align: top;\n",
              "    }\n",
              "\n",
              "    .dataframe thead th {\n",
              "        text-align: right;\n",
              "    }\n",
              "</style>\n",
              "<table border=\"1\" class=\"dataframe\">\n",
              "  <thead>\n",
              "    <tr style=\"text-align: right;\">\n",
              "      <th></th>\n",
              "      <th>TIME</th>\n",
              "      <th>GEO</th>\n",
              "      <th>Value</th>\n",
              "    </tr>\n",
              "  </thead>\n",
              "  <tbody>\n",
              "    <tr>\n",
              "      <th>0</th>\n",
              "      <td>2000</td>\n",
              "      <td>European Union (28 countries)</td>\n",
              "      <td>NaN</td>\n",
              "    </tr>\n",
              "    <tr>\n",
              "      <th>1</th>\n",
              "      <td>2001</td>\n",
              "      <td>European Union (28 countries)</td>\n",
              "      <td>NaN</td>\n",
              "    </tr>\n",
              "    <tr>\n",
              "      <th>2</th>\n",
              "      <td>2002</td>\n",
              "      <td>European Union (28 countries)</td>\n",
              "      <td>5.00</td>\n",
              "    </tr>\n",
              "    <tr>\n",
              "      <th>3</th>\n",
              "      <td>2003</td>\n",
              "      <td>European Union (28 countries)</td>\n",
              "      <td>5.03</td>\n",
              "    </tr>\n",
              "    <tr>\n",
              "      <th>4</th>\n",
              "      <td>2004</td>\n",
              "      <td>European Union (28 countries)</td>\n",
              "      <td>4.95</td>\n",
              "    </tr>\n",
              "  </tbody>\n",
              "</table>\n",
              "</div>"
            ],
            "text/plain": [
              "   TIME                            GEO  Value\n",
              "0  2000  European Union (28 countries)    NaN\n",
              "1  2001  European Union (28 countries)    NaN\n",
              "2  2002  European Union (28 countries)   5.00\n",
              "3  2003  European Union (28 countries)   5.03\n",
              "4  2004  European Union (28 countries)   4.95"
            ]
          },
          "execution_count": 37,
          "metadata": {},
          "output_type": "execute_result"
        }
      ],
      "source": [
        "edu.head()"
      ]
    },
    {
      "cell_type": "code",
      "execution_count": null,
      "metadata": {
        "id": "dLDvgRsvwULw",
        "outputId": "47fbc4d4-0101-4d2b-f173-3411dfef9934"
      },
      "outputs": [
        {
          "data": {
            "text/html": [
              "<div>\n",
              "<style scoped>\n",
              "    .dataframe tbody tr th:only-of-type {\n",
              "        vertical-align: middle;\n",
              "    }\n",
              "\n",
              "    .dataframe tbody tr th {\n",
              "        vertical-align: top;\n",
              "    }\n",
              "\n",
              "    .dataframe thead th {\n",
              "        text-align: right;\n",
              "    }\n",
              "</style>\n",
              "<table border=\"1\" class=\"dataframe\">\n",
              "  <thead>\n",
              "    <tr style=\"text-align: right;\">\n",
              "      <th></th>\n",
              "      <th>TIME</th>\n",
              "      <th>GEO</th>\n",
              "      <th>Value</th>\n",
              "    </tr>\n",
              "  </thead>\n",
              "  <tbody>\n",
              "    <tr>\n",
              "      <th>0</th>\n",
              "      <td>2000</td>\n",
              "      <td>European Union (28 countries)</td>\n",
              "      <td>NaN</td>\n",
              "    </tr>\n",
              "    <tr>\n",
              "      <th>1</th>\n",
              "      <td>2001</td>\n",
              "      <td>European Union (28 countries)</td>\n",
              "      <td>NaN</td>\n",
              "    </tr>\n",
              "    <tr>\n",
              "      <th>2</th>\n",
              "      <td>2002</td>\n",
              "      <td>European Union (28 countries)</td>\n",
              "      <td>5.00</td>\n",
              "    </tr>\n",
              "    <tr>\n",
              "      <th>3</th>\n",
              "      <td>2003</td>\n",
              "      <td>European Union (28 countries)</td>\n",
              "      <td>5.03</td>\n",
              "    </tr>\n",
              "    <tr>\n",
              "      <th>4</th>\n",
              "      <td>2004</td>\n",
              "      <td>European Union (28 countries)</td>\n",
              "      <td>4.95</td>\n",
              "    </tr>\n",
              "    <tr>\n",
              "      <th>5</th>\n",
              "      <td>2005</td>\n",
              "      <td>European Union (28 countries)</td>\n",
              "      <td>4.92</td>\n",
              "    </tr>\n",
              "    <tr>\n",
              "      <th>6</th>\n",
              "      <td>2006</td>\n",
              "      <td>European Union (28 countries)</td>\n",
              "      <td>4.91</td>\n",
              "    </tr>\n",
              "    <tr>\n",
              "      <th>7</th>\n",
              "      <td>2007</td>\n",
              "      <td>European Union (28 countries)</td>\n",
              "      <td>4.92</td>\n",
              "    </tr>\n",
              "    <tr>\n",
              "      <th>8</th>\n",
              "      <td>2008</td>\n",
              "      <td>European Union (28 countries)</td>\n",
              "      <td>5.04</td>\n",
              "    </tr>\n",
              "    <tr>\n",
              "      <th>9</th>\n",
              "      <td>2009</td>\n",
              "      <td>European Union (28 countries)</td>\n",
              "      <td>5.38</td>\n",
              "    </tr>\n",
              "  </tbody>\n",
              "</table>\n",
              "</div>"
            ],
            "text/plain": [
              "   TIME                            GEO  Value\n",
              "0  2000  European Union (28 countries)    NaN\n",
              "1  2001  European Union (28 countries)    NaN\n",
              "2  2002  European Union (28 countries)   5.00\n",
              "3  2003  European Union (28 countries)   5.03\n",
              "4  2004  European Union (28 countries)   4.95\n",
              "5  2005  European Union (28 countries)   4.92\n",
              "6  2006  European Union (28 countries)   4.91\n",
              "7  2007  European Union (28 countries)   4.92\n",
              "8  2008  European Union (28 countries)   5.04\n",
              "9  2009  European Union (28 countries)   5.38"
            ]
          },
          "execution_count": 38,
          "metadata": {},
          "output_type": "execute_result"
        }
      ],
      "source": [
        "edu.head(10)"
      ]
    },
    {
      "cell_type": "markdown",
      "metadata": {
        "id": "76Hif7dBwULw"
      },
      "source": [
        "### 3) What does the method tail()return?\n",
        "The tail() method returns the last rows of a DataFrame. By default, it displays the last 5 rows, but if a number is provided as an argument, it returns that many rows from the end of the DataFrame."
      ]
    },
    {
      "cell_type": "code",
      "execution_count": null,
      "metadata": {
        "id": "Bbp-MglDwULx",
        "outputId": "4ac77a52-33fa-4b72-d4f1-5f1883df06ad"
      },
      "outputs": [
        {
          "data": {
            "text/html": [
              "<div>\n",
              "<style scoped>\n",
              "    .dataframe tbody tr th:only-of-type {\n",
              "        vertical-align: middle;\n",
              "    }\n",
              "\n",
              "    .dataframe tbody tr th {\n",
              "        vertical-align: top;\n",
              "    }\n",
              "\n",
              "    .dataframe thead th {\n",
              "        text-align: right;\n",
              "    }\n",
              "</style>\n",
              "<table border=\"1\" class=\"dataframe\">\n",
              "  <thead>\n",
              "    <tr style=\"text-align: right;\">\n",
              "      <th></th>\n",
              "      <th>TIME</th>\n",
              "      <th>GEO</th>\n",
              "      <th>Value</th>\n",
              "    </tr>\n",
              "  </thead>\n",
              "  <tbody>\n",
              "    <tr>\n",
              "      <th>379</th>\n",
              "      <td>2007</td>\n",
              "      <td>Finland</td>\n",
              "      <td>5.90</td>\n",
              "    </tr>\n",
              "    <tr>\n",
              "      <th>380</th>\n",
              "      <td>2008</td>\n",
              "      <td>Finland</td>\n",
              "      <td>6.10</td>\n",
              "    </tr>\n",
              "    <tr>\n",
              "      <th>381</th>\n",
              "      <td>2009</td>\n",
              "      <td>Finland</td>\n",
              "      <td>6.81</td>\n",
              "    </tr>\n",
              "    <tr>\n",
              "      <th>382</th>\n",
              "      <td>2010</td>\n",
              "      <td>Finland</td>\n",
              "      <td>6.85</td>\n",
              "    </tr>\n",
              "    <tr>\n",
              "      <th>383</th>\n",
              "      <td>2011</td>\n",
              "      <td>Finland</td>\n",
              "      <td>6.76</td>\n",
              "    </tr>\n",
              "  </tbody>\n",
              "</table>\n",
              "</div>"
            ],
            "text/plain": [
              "     TIME      GEO  Value\n",
              "379  2007  Finland   5.90\n",
              "380  2008  Finland   6.10\n",
              "381  2009  Finland   6.81\n",
              "382  2010  Finland   6.85\n",
              "383  2011  Finland   6.76"
            ]
          },
          "execution_count": 39,
          "metadata": {},
          "output_type": "execute_result"
        }
      ],
      "source": [
        "edu.tail()"
      ]
    },
    {
      "cell_type": "markdown",
      "metadata": {
        "id": "uq609ECPwULx"
      },
      "source": [
        "### 4) Which measures does the result show? It seems that it shows some default values, can you guess which ones?\n",
        "The describe() method provides a statistical summary of numerical columns in the dataset. It includes the following default measures:\n",
        "\n",
        "- Count: Number of non-null values.\n",
        "- Mean: The average value.\n",
        "- Standard deviation (std): How much values deviate from the mean.\n",
        "- Minimum (min): The smallest value in the column.\n",
        "- 25% (Q1): The first quartile (25th percentile).\n",
        "- 50% (median/Q2): The middle value (50th percentile).\n",
        "- 75% (Q3): The third quartile (75th percentile).\n",
        "Maximum (max): The largest value in the column."
      ]
    },
    {
      "cell_type": "code",
      "execution_count": null,
      "metadata": {
        "id": "WlI0AvaZwULx",
        "outputId": "61c94aea-1af8-4f35-d4d5-aa9d5b947228"
      },
      "outputs": [
        {
          "data": {
            "text/html": [
              "<div>\n",
              "<style scoped>\n",
              "    .dataframe tbody tr th:only-of-type {\n",
              "        vertical-align: middle;\n",
              "    }\n",
              "\n",
              "    .dataframe tbody tr th {\n",
              "        vertical-align: top;\n",
              "    }\n",
              "\n",
              "    .dataframe thead th {\n",
              "        text-align: right;\n",
              "    }\n",
              "</style>\n",
              "<table border=\"1\" class=\"dataframe\">\n",
              "  <thead>\n",
              "    <tr style=\"text-align: right;\">\n",
              "      <th></th>\n",
              "      <th>TIME</th>\n",
              "      <th>Value</th>\n",
              "    </tr>\n",
              "  </thead>\n",
              "  <tbody>\n",
              "    <tr>\n",
              "      <th>count</th>\n",
              "      <td>384.000000</td>\n",
              "      <td>361.000000</td>\n",
              "    </tr>\n",
              "    <tr>\n",
              "      <th>mean</th>\n",
              "      <td>2005.500000</td>\n",
              "      <td>5.203989</td>\n",
              "    </tr>\n",
              "    <tr>\n",
              "      <th>std</th>\n",
              "      <td>3.456556</td>\n",
              "      <td>1.021694</td>\n",
              "    </tr>\n",
              "    <tr>\n",
              "      <th>min</th>\n",
              "      <td>2000.000000</td>\n",
              "      <td>2.880000</td>\n",
              "    </tr>\n",
              "    <tr>\n",
              "      <th>25%</th>\n",
              "      <td>2002.750000</td>\n",
              "      <td>4.620000</td>\n",
              "    </tr>\n",
              "    <tr>\n",
              "      <th>50%</th>\n",
              "      <td>2005.500000</td>\n",
              "      <td>5.060000</td>\n",
              "    </tr>\n",
              "    <tr>\n",
              "      <th>75%</th>\n",
              "      <td>2008.250000</td>\n",
              "      <td>5.660000</td>\n",
              "    </tr>\n",
              "    <tr>\n",
              "      <th>max</th>\n",
              "      <td>2011.000000</td>\n",
              "      <td>8.810000</td>\n",
              "    </tr>\n",
              "  </tbody>\n",
              "</table>\n",
              "</div>"
            ],
            "text/plain": [
              "              TIME       Value\n",
              "count   384.000000  361.000000\n",
              "mean   2005.500000    5.203989\n",
              "std       3.456556    1.021694\n",
              "min    2000.000000    2.880000\n",
              "25%    2002.750000    4.620000\n",
              "50%    2005.500000    5.060000\n",
              "75%    2008.250000    5.660000\n",
              "max    2011.000000    8.810000"
            ]
          },
          "execution_count": 40,
          "metadata": {},
          "output_type": "execute_result"
        }
      ],
      "source": [
        "edu.describe()"
      ]
    },
    {
      "cell_type": "code",
      "execution_count": null,
      "metadata": {
        "id": "X4IOM_CUwULx",
        "outputId": "4860cd04-edcb-4cea-da73-2c79a508768d"
      },
      "outputs": [
        {
          "data": {
            "text/plain": [
              "0       NaN\n",
              "1       NaN\n",
              "2      5.00\n",
              "3      5.03\n",
              "4      4.95\n",
              "       ... \n",
              "379    5.90\n",
              "380    6.10\n",
              "381    6.81\n",
              "382    6.85\n",
              "383    6.76\n",
              "Name: Value, Length: 384, dtype: float64"
            ]
          },
          "execution_count": 41,
          "metadata": {},
          "output_type": "execute_result"
        }
      ],
      "source": [
        "edu['Value']"
      ]
    },
    {
      "cell_type": "code",
      "execution_count": null,
      "metadata": {
        "id": "YHVopVvAwULx",
        "outputId": "e7d8da83-c021-4ea9-fb1d-b0350ccece47"
      },
      "outputs": [
        {
          "data": {
            "text/html": [
              "<div>\n",
              "<style scoped>\n",
              "    .dataframe tbody tr th:only-of-type {\n",
              "        vertical-align: middle;\n",
              "    }\n",
              "\n",
              "    .dataframe tbody tr th {\n",
              "        vertical-align: top;\n",
              "    }\n",
              "\n",
              "    .dataframe thead th {\n",
              "        text-align: right;\n",
              "    }\n",
              "</style>\n",
              "<table border=\"1\" class=\"dataframe\">\n",
              "  <thead>\n",
              "    <tr style=\"text-align: right;\">\n",
              "      <th></th>\n",
              "      <th>TIME</th>\n",
              "      <th>GEO</th>\n",
              "      <th>Value</th>\n",
              "    </tr>\n",
              "  </thead>\n",
              "  <tbody>\n",
              "    <tr>\n",
              "      <th>10</th>\n",
              "      <td>2010</td>\n",
              "      <td>European Union (28 countries)</td>\n",
              "      <td>5.41</td>\n",
              "    </tr>\n",
              "    <tr>\n",
              "      <th>11</th>\n",
              "      <td>2011</td>\n",
              "      <td>European Union (28 countries)</td>\n",
              "      <td>5.25</td>\n",
              "    </tr>\n",
              "    <tr>\n",
              "      <th>12</th>\n",
              "      <td>2000</td>\n",
              "      <td>European Union (27 countries)</td>\n",
              "      <td>4.91</td>\n",
              "    </tr>\n",
              "    <tr>\n",
              "      <th>13</th>\n",
              "      <td>2001</td>\n",
              "      <td>European Union (27 countries)</td>\n",
              "      <td>4.99</td>\n",
              "    </tr>\n",
              "  </tbody>\n",
              "</table>\n",
              "</div>"
            ],
            "text/plain": [
              "    TIME                            GEO  Value\n",
              "10  2010  European Union (28 countries)   5.41\n",
              "11  2011  European Union (28 countries)   5.25\n",
              "12  2000  European Union (27 countries)   4.91\n",
              "13  2001  European Union (27 countries)   4.99"
            ]
          },
          "execution_count": 42,
          "metadata": {},
          "output_type": "execute_result"
        }
      ],
      "source": [
        "edu[10:14]"
      ]
    },
    {
      "cell_type": "code",
      "execution_count": null,
      "metadata": {
        "id": "B74EDvGnwULx",
        "outputId": "227e04a4-db17-44e8-b9b2-85d661b7d1b8"
      },
      "outputs": [
        {
          "data": {
            "text/html": [
              "<div>\n",
              "<style scoped>\n",
              "    .dataframe tbody tr th:only-of-type {\n",
              "        vertical-align: middle;\n",
              "    }\n",
              "\n",
              "    .dataframe tbody tr th {\n",
              "        vertical-align: top;\n",
              "    }\n",
              "\n",
              "    .dataframe thead th {\n",
              "        text-align: right;\n",
              "    }\n",
              "</style>\n",
              "<table border=\"1\" class=\"dataframe\">\n",
              "  <thead>\n",
              "    <tr style=\"text-align: right;\">\n",
              "      <th></th>\n",
              "      <th>TIME</th>\n",
              "      <th>GEO</th>\n",
              "    </tr>\n",
              "  </thead>\n",
              "  <tbody>\n",
              "    <tr>\n",
              "      <th>90</th>\n",
              "      <td>2006</td>\n",
              "      <td>Belgium</td>\n",
              "    </tr>\n",
              "    <tr>\n",
              "      <th>91</th>\n",
              "      <td>2007</td>\n",
              "      <td>Belgium</td>\n",
              "    </tr>\n",
              "    <tr>\n",
              "      <th>92</th>\n",
              "      <td>2008</td>\n",
              "      <td>Belgium</td>\n",
              "    </tr>\n",
              "    <tr>\n",
              "      <th>93</th>\n",
              "      <td>2009</td>\n",
              "      <td>Belgium</td>\n",
              "    </tr>\n",
              "    <tr>\n",
              "      <th>94</th>\n",
              "      <td>2010</td>\n",
              "      <td>Belgium</td>\n",
              "    </tr>\n",
              "  </tbody>\n",
              "</table>\n",
              "</div>"
            ],
            "text/plain": [
              "    TIME      GEO\n",
              "90  2006  Belgium\n",
              "91  2007  Belgium\n",
              "92  2008  Belgium\n",
              "93  2009  Belgium\n",
              "94  2010  Belgium"
            ]
          },
          "execution_count": 43,
          "metadata": {},
          "output_type": "execute_result"
        }
      ],
      "source": [
        "edu.loc[90:94][['TIME','GEO']]"
      ]
    },
    {
      "cell_type": "markdown",
      "metadata": {
        "id": "NhLKd3WuwULx"
      },
      "source": [
        "### 5) What does this index return? What does the first index represent? And the second one?\n",
        "This operation selects a subset of the edu DataFrame, specifically:\n",
        "\n",
        "Rows 90 to 94 (inclusive) based on their index labels.\n",
        "Columns 'TIME' and 'GEO', filtering only these two from the selected rows.\n",
        "\n",
        "#### What does the first index represent?\n",
        "\n",
        "90:94 refers to the row labels that will be extracted. Unlike .iloc[], which uses positional indexing, .loc[] selects rows based on their actual index values (which often align with positions in this case).\n",
        "\n",
        "#### What does the second index represent?\n",
        "\n",
        "[['TIME', 'GEO']] specifies the columns to retrieve. Instead of returning all columns, only 'TIME' and 'GEO' will be included in the output.\n",
        "This method is useful when we need to extract specific rows and columns based on labels rather than numerical positions."
      ]
    },
    {
      "cell_type": "code",
      "execution_count": null,
      "metadata": {
        "id": "uD9iOQ8DwULy",
        "outputId": "995b2ec4-ff4e-43af-d5fd-518fba3ddce3"
      },
      "outputs": [
        {
          "data": {
            "text/html": [
              "<div>\n",
              "<style scoped>\n",
              "    .dataframe tbody tr th:only-of-type {\n",
              "        vertical-align: middle;\n",
              "    }\n",
              "\n",
              "    .dataframe tbody tr th {\n",
              "        vertical-align: top;\n",
              "    }\n",
              "\n",
              "    .dataframe thead th {\n",
              "        text-align: right;\n",
              "    }\n",
              "</style>\n",
              "<table border=\"1\" class=\"dataframe\">\n",
              "  <thead>\n",
              "    <tr style=\"text-align: right;\">\n",
              "      <th></th>\n",
              "      <th>TIME</th>\n",
              "      <th>GEO</th>\n",
              "      <th>Value</th>\n",
              "    </tr>\n",
              "  </thead>\n",
              "  <tbody>\n",
              "    <tr>\n",
              "      <th>286</th>\n",
              "      <td>2010</td>\n",
              "      <td>Malta</td>\n",
              "      <td>6.74</td>\n",
              "    </tr>\n",
              "    <tr>\n",
              "      <th>287</th>\n",
              "      <td>2011</td>\n",
              "      <td>Malta</td>\n",
              "      <td>7.96</td>\n",
              "    </tr>\n",
              "    <tr>\n",
              "      <th>381</th>\n",
              "      <td>2009</td>\n",
              "      <td>Finland</td>\n",
              "      <td>6.81</td>\n",
              "    </tr>\n",
              "    <tr>\n",
              "      <th>382</th>\n",
              "      <td>2010</td>\n",
              "      <td>Finland</td>\n",
              "      <td>6.85</td>\n",
              "    </tr>\n",
              "    <tr>\n",
              "      <th>383</th>\n",
              "      <td>2011</td>\n",
              "      <td>Finland</td>\n",
              "      <td>6.76</td>\n",
              "    </tr>\n",
              "  </tbody>\n",
              "</table>\n",
              "</div>"
            ],
            "text/plain": [
              "     TIME      GEO  Value\n",
              "286  2010    Malta   6.74\n",
              "287  2011    Malta   7.96\n",
              "381  2009  Finland   6.81\n",
              "382  2010  Finland   6.85\n",
              "383  2011  Finland   6.76"
            ]
          },
          "execution_count": 44,
          "metadata": {},
          "output_type": "execute_result"
        }
      ],
      "source": [
        "edu[edu['Value'] > 6.5].tail()"
      ]
    },
    {
      "cell_type": "markdown",
      "metadata": {
        "id": "4XeiZu5XwULy"
      },
      "source": [
        "### 6) What does the operation edu[’Value’] > 6.5 produce? An if we apply the indexedu[edu[’Value’] > 6.5]?Is this a Series or aDataFrame?\n",
        "\n",
        "edu['Value'] > 6.5 → Returns a Boolean Series indicating which rows meet the condition.\n",
        "\n",
        "\n",
        "edu[edu['Value'] > 6.5] → Returns a filtered DataFrame with only the rows where 'Value' is greater than 6.5.\n"
      ]
    },
    {
      "cell_type": "code",
      "execution_count": null,
      "metadata": {
        "id": "ORuJLXqfwULy",
        "outputId": "14247fb3-ea18-40ce-f973-eebc687c8c79"
      },
      "outputs": [
        {
          "data": {
            "text/html": [
              "<div>\n",
              "<style scoped>\n",
              "    .dataframe tbody tr th:only-of-type {\n",
              "        vertical-align: middle;\n",
              "    }\n",
              "\n",
              "    .dataframe tbody tr th {\n",
              "        vertical-align: top;\n",
              "    }\n",
              "\n",
              "    .dataframe thead th {\n",
              "        text-align: right;\n",
              "    }\n",
              "</style>\n",
              "<table border=\"1\" class=\"dataframe\">\n",
              "  <thead>\n",
              "    <tr style=\"text-align: right;\">\n",
              "      <th></th>\n",
              "      <th>TIME</th>\n",
              "      <th>GEO</th>\n",
              "      <th>Value</th>\n",
              "    </tr>\n",
              "  </thead>\n",
              "  <tbody>\n",
              "    <tr>\n",
              "      <th>0</th>\n",
              "      <td>2000</td>\n",
              "      <td>European Union (28 countries)</td>\n",
              "      <td>NaN</td>\n",
              "    </tr>\n",
              "    <tr>\n",
              "      <th>1</th>\n",
              "      <td>2001</td>\n",
              "      <td>European Union (28 countries)</td>\n",
              "      <td>NaN</td>\n",
              "    </tr>\n",
              "    <tr>\n",
              "      <th>36</th>\n",
              "      <td>2000</td>\n",
              "      <td>Euro area (18 countries)</td>\n",
              "      <td>NaN</td>\n",
              "    </tr>\n",
              "    <tr>\n",
              "      <th>37</th>\n",
              "      <td>2001</td>\n",
              "      <td>Euro area (18 countries)</td>\n",
              "      <td>NaN</td>\n",
              "    </tr>\n",
              "    <tr>\n",
              "      <th>48</th>\n",
              "      <td>2000</td>\n",
              "      <td>Euro area (17 countries)</td>\n",
              "      <td>NaN</td>\n",
              "    </tr>\n",
              "  </tbody>\n",
              "</table>\n",
              "</div>"
            ],
            "text/plain": [
              "    TIME                            GEO  Value\n",
              "0   2000  European Union (28 countries)    NaN\n",
              "1   2001  European Union (28 countries)    NaN\n",
              "36  2000       Euro area (18 countries)    NaN\n",
              "37  2001       Euro area (18 countries)    NaN\n",
              "48  2000       Euro area (17 countries)    NaN"
            ]
          },
          "execution_count": 45,
          "metadata": {},
          "output_type": "execute_result"
        }
      ],
      "source": [
        "edu[edu[\"Value\"].isnull()].head()"
      ]
    },
    {
      "cell_type": "code",
      "execution_count": null,
      "metadata": {
        "id": "8CF781hYwULy",
        "outputId": "7650b5d2-88e6-4039-d52a-a6cc10dedaf0"
      },
      "outputs": [
        {
          "data": {
            "text/plain": [
              "TIME      2011\n",
              "GEO      Spain\n",
              "Value     8.81\n",
              "dtype: object"
            ]
          },
          "execution_count": 46,
          "metadata": {},
          "output_type": "execute_result"
        }
      ],
      "source": [
        "edu.max(axis = 0)"
      ]
    },
    {
      "cell_type": "code",
      "execution_count": null,
      "metadata": {
        "id": "y3NUPS33wULy",
        "outputId": "e19b8f96-0e9e-4f8f-ce00-f48c6d5f92b5"
      },
      "outputs": [
        {
          "name": "stdout",
          "output_type": "stream",
          "text": [
            "Pandas max function: 8.81\n",
            "Python max function: nan\n"
          ]
        }
      ],
      "source": [
        "print ('Pandas max function:', edu['Value'].max())\n",
        "print ('Python max function:', max(edu['Value']))"
      ]
    },
    {
      "cell_type": "code",
      "execution_count": null,
      "metadata": {
        "id": "mAyQ4GkswULy",
        "outputId": "bcd122d4-8081-47d0-ee4d-e5687a0c607a"
      },
      "outputs": [
        {
          "data": {
            "text/plain": [
              "0       NaN\n",
              "1       NaN\n",
              "2    0.0500\n",
              "3    0.0503\n",
              "4    0.0495\n",
              "Name: Value, dtype: float64"
            ]
          },
          "execution_count": 48,
          "metadata": {},
          "output_type": "execute_result"
        }
      ],
      "source": [
        "s = edu[\"Value\"]/100\n",
        "s.head()"
      ]
    },
    {
      "cell_type": "code",
      "execution_count": null,
      "metadata": {
        "id": "XeVzcc-YwULy",
        "outputId": "35504ab5-ade7-4c9b-c62a-a954d8aba97f"
      },
      "outputs": [
        {
          "data": {
            "text/plain": [
              "0         NaN\n",
              "1         NaN\n",
              "2    2.236068\n",
              "3    2.242766\n",
              "4    2.224860\n",
              "Name: Value, dtype: float64"
            ]
          },
          "execution_count": 49,
          "metadata": {},
          "output_type": "execute_result"
        }
      ],
      "source": [
        "s = edu[\"Value\"].apply(np.sqrt)\n",
        "s.head()"
      ]
    },
    {
      "cell_type": "code",
      "execution_count": null,
      "metadata": {
        "id": "qu5MxZlZwULy",
        "outputId": "8327f31b-396b-4399-e38d-ecd2d75f09cb"
      },
      "outputs": [
        {
          "data": {
            "text/plain": [
              "0        NaN\n",
              "1        NaN\n",
              "2    25.0000\n",
              "3    25.3009\n",
              "4    24.5025\n",
              "Name: Value, dtype: float64"
            ]
          },
          "execution_count": 50,
          "metadata": {},
          "output_type": "execute_result"
        }
      ],
      "source": [
        "s = edu[\"Value\"].apply(lambda d: d**2)\n",
        "s.head()"
      ]
    },
    {
      "cell_type": "code",
      "execution_count": null,
      "metadata": {
        "id": "JV5dhL3hwULy",
        "outputId": "5298ee3f-1a54-4412-e5ea-9d7daba6cae7"
      },
      "outputs": [
        {
          "data": {
            "text/html": [
              "<div>\n",
              "<style scoped>\n",
              "    .dataframe tbody tr th:only-of-type {\n",
              "        vertical-align: middle;\n",
              "    }\n",
              "\n",
              "    .dataframe tbody tr th {\n",
              "        vertical-align: top;\n",
              "    }\n",
              "\n",
              "    .dataframe thead th {\n",
              "        text-align: right;\n",
              "    }\n",
              "</style>\n",
              "<table border=\"1\" class=\"dataframe\">\n",
              "  <thead>\n",
              "    <tr style=\"text-align: right;\">\n",
              "      <th></th>\n",
              "      <th>TIME</th>\n",
              "      <th>GEO</th>\n",
              "      <th>Value</th>\n",
              "      <th>ValueNorm</th>\n",
              "    </tr>\n",
              "  </thead>\n",
              "  <tbody>\n",
              "    <tr>\n",
              "      <th>379</th>\n",
              "      <td>2007</td>\n",
              "      <td>Finland</td>\n",
              "      <td>5.90</td>\n",
              "      <td>0.669694</td>\n",
              "    </tr>\n",
              "    <tr>\n",
              "      <th>380</th>\n",
              "      <td>2008</td>\n",
              "      <td>Finland</td>\n",
              "      <td>6.10</td>\n",
              "      <td>0.692395</td>\n",
              "    </tr>\n",
              "    <tr>\n",
              "      <th>381</th>\n",
              "      <td>2009</td>\n",
              "      <td>Finland</td>\n",
              "      <td>6.81</td>\n",
              "      <td>0.772985</td>\n",
              "    </tr>\n",
              "    <tr>\n",
              "      <th>382</th>\n",
              "      <td>2010</td>\n",
              "      <td>Finland</td>\n",
              "      <td>6.85</td>\n",
              "      <td>0.777526</td>\n",
              "    </tr>\n",
              "    <tr>\n",
              "      <th>383</th>\n",
              "      <td>2011</td>\n",
              "      <td>Finland</td>\n",
              "      <td>6.76</td>\n",
              "      <td>0.767310</td>\n",
              "    </tr>\n",
              "  </tbody>\n",
              "</table>\n",
              "</div>"
            ],
            "text/plain": [
              "     TIME      GEO  Value  ValueNorm\n",
              "379  2007  Finland   5.90   0.669694\n",
              "380  2008  Finland   6.10   0.692395\n",
              "381  2009  Finland   6.81   0.772985\n",
              "382  2010  Finland   6.85   0.777526\n",
              "383  2011  Finland   6.76   0.767310"
            ]
          },
          "execution_count": 51,
          "metadata": {},
          "output_type": "execute_result"
        }
      ],
      "source": [
        "edu['ValueNorm'] = edu['Value']/edu['Value'].max()\n",
        "edu.tail()"
      ]
    },
    {
      "cell_type": "code",
      "execution_count": null,
      "metadata": {
        "id": "ZF3W0oi2wULz",
        "outputId": "b8e4f957-632e-4b7b-e8f8-3c11b6260744"
      },
      "outputs": [
        {
          "data": {
            "text/html": [
              "<div>\n",
              "<style scoped>\n",
              "    .dataframe tbody tr th:only-of-type {\n",
              "        vertical-align: middle;\n",
              "    }\n",
              "\n",
              "    .dataframe tbody tr th {\n",
              "        vertical-align: top;\n",
              "    }\n",
              "\n",
              "    .dataframe thead th {\n",
              "        text-align: right;\n",
              "    }\n",
              "</style>\n",
              "<table border=\"1\" class=\"dataframe\">\n",
              "  <thead>\n",
              "    <tr style=\"text-align: right;\">\n",
              "      <th></th>\n",
              "      <th>TIME</th>\n",
              "      <th>GEO</th>\n",
              "      <th>Value</th>\n",
              "    </tr>\n",
              "  </thead>\n",
              "  <tbody>\n",
              "    <tr>\n",
              "      <th>0</th>\n",
              "      <td>2000</td>\n",
              "      <td>European Union (28 countries)</td>\n",
              "      <td>NaN</td>\n",
              "    </tr>\n",
              "    <tr>\n",
              "      <th>1</th>\n",
              "      <td>2001</td>\n",
              "      <td>European Union (28 countries)</td>\n",
              "      <td>NaN</td>\n",
              "    </tr>\n",
              "    <tr>\n",
              "      <th>2</th>\n",
              "      <td>2002</td>\n",
              "      <td>European Union (28 countries)</td>\n",
              "      <td>5.00</td>\n",
              "    </tr>\n",
              "    <tr>\n",
              "      <th>3</th>\n",
              "      <td>2003</td>\n",
              "      <td>European Union (28 countries)</td>\n",
              "      <td>5.03</td>\n",
              "    </tr>\n",
              "    <tr>\n",
              "      <th>4</th>\n",
              "      <td>2004</td>\n",
              "      <td>European Union (28 countries)</td>\n",
              "      <td>4.95</td>\n",
              "    </tr>\n",
              "  </tbody>\n",
              "</table>\n",
              "</div>"
            ],
            "text/plain": [
              "   TIME                            GEO  Value\n",
              "0  2000  European Union (28 countries)    NaN\n",
              "1  2001  European Union (28 countries)    NaN\n",
              "2  2002  European Union (28 countries)   5.00\n",
              "3  2003  European Union (28 countries)   5.03\n",
              "4  2004  European Union (28 countries)   4.95"
            ]
          },
          "execution_count": 52,
          "metadata": {},
          "output_type": "execute_result"
        }
      ],
      "source": [
        "edu.drop('ValueNorm', axis = 1, inplace = True)\n",
        "edu.head()"
      ]
    },
    {
      "cell_type": "code",
      "execution_count": null,
      "metadata": {
        "id": "dL7zzDIjwULz",
        "outputId": "43a117f3-8123-4cce-d8a9-b2bb063c84a0"
      },
      "outputs": [
        {
          "data": {
            "text/html": [
              "<div>\n",
              "<style scoped>\n",
              "    .dataframe tbody tr th:only-of-type {\n",
              "        vertical-align: middle;\n",
              "    }\n",
              "\n",
              "    .dataframe tbody tr th {\n",
              "        vertical-align: top;\n",
              "    }\n",
              "\n",
              "    .dataframe thead th {\n",
              "        text-align: right;\n",
              "    }\n",
              "</style>\n",
              "<table border=\"1\" class=\"dataframe\">\n",
              "  <thead>\n",
              "    <tr style=\"text-align: right;\">\n",
              "      <th></th>\n",
              "      <th>TIME</th>\n",
              "      <th>GEO</th>\n",
              "      <th>Value</th>\n",
              "    </tr>\n",
              "  </thead>\n",
              "  <tbody>\n",
              "    <tr>\n",
              "      <th>380</th>\n",
              "      <td>2008</td>\n",
              "      <td>Finland</td>\n",
              "      <td>6.10</td>\n",
              "    </tr>\n",
              "    <tr>\n",
              "      <th>381</th>\n",
              "      <td>2009</td>\n",
              "      <td>Finland</td>\n",
              "      <td>6.81</td>\n",
              "    </tr>\n",
              "    <tr>\n",
              "      <th>382</th>\n",
              "      <td>2010</td>\n",
              "      <td>Finland</td>\n",
              "      <td>6.85</td>\n",
              "    </tr>\n",
              "    <tr>\n",
              "      <th>383</th>\n",
              "      <td>2011</td>\n",
              "      <td>Finland</td>\n",
              "      <td>6.76</td>\n",
              "    </tr>\n",
              "    <tr>\n",
              "      <th>384</th>\n",
              "      <td>2000</td>\n",
              "      <td>a</td>\n",
              "      <td>5.00</td>\n",
              "    </tr>\n",
              "  </tbody>\n",
              "</table>\n",
              "</div>"
            ],
            "text/plain": [
              "     TIME      GEO  Value\n",
              "380  2008  Finland   6.10\n",
              "381  2009  Finland   6.81\n",
              "382  2010  Finland   6.85\n",
              "383  2011  Finland   6.76\n",
              "384  2000        a   5.00"
            ]
          },
          "execution_count": 53,
          "metadata": {},
          "output_type": "execute_result"
        }
      ],
      "source": [
        "edu = pd.concat([edu, pd.DataFrame([{\"TIME\": 2000, \"Value\": 5.00, \"GEO\": 'a'}])], ignore_index=True)\n",
        "edu.tail()\n"
      ]
    },
    {
      "cell_type": "code",
      "execution_count": null,
      "metadata": {
        "id": "bJFY6FgPwULz",
        "outputId": "84ead3c8-e076-40e4-fe94-442cc8d40027"
      },
      "outputs": [
        {
          "data": {
            "text/html": [
              "<div>\n",
              "<style scoped>\n",
              "    .dataframe tbody tr th:only-of-type {\n",
              "        vertical-align: middle;\n",
              "    }\n",
              "\n",
              "    .dataframe tbody tr th {\n",
              "        vertical-align: top;\n",
              "    }\n",
              "\n",
              "    .dataframe thead th {\n",
              "        text-align: right;\n",
              "    }\n",
              "</style>\n",
              "<table border=\"1\" class=\"dataframe\">\n",
              "  <thead>\n",
              "    <tr style=\"text-align: right;\">\n",
              "      <th></th>\n",
              "      <th>TIME</th>\n",
              "      <th>GEO</th>\n",
              "      <th>Value</th>\n",
              "    </tr>\n",
              "  </thead>\n",
              "  <tbody>\n",
              "    <tr>\n",
              "      <th>379</th>\n",
              "      <td>2007</td>\n",
              "      <td>Finland</td>\n",
              "      <td>5.90</td>\n",
              "    </tr>\n",
              "    <tr>\n",
              "      <th>380</th>\n",
              "      <td>2008</td>\n",
              "      <td>Finland</td>\n",
              "      <td>6.10</td>\n",
              "    </tr>\n",
              "    <tr>\n",
              "      <th>381</th>\n",
              "      <td>2009</td>\n",
              "      <td>Finland</td>\n",
              "      <td>6.81</td>\n",
              "    </tr>\n",
              "    <tr>\n",
              "      <th>382</th>\n",
              "      <td>2010</td>\n",
              "      <td>Finland</td>\n",
              "      <td>6.85</td>\n",
              "    </tr>\n",
              "    <tr>\n",
              "      <th>383</th>\n",
              "      <td>2011</td>\n",
              "      <td>Finland</td>\n",
              "      <td>6.76</td>\n",
              "    </tr>\n",
              "  </tbody>\n",
              "</table>\n",
              "</div>"
            ],
            "text/plain": [
              "     TIME      GEO  Value\n",
              "379  2007  Finland   5.90\n",
              "380  2008  Finland   6.10\n",
              "381  2009  Finland   6.81\n",
              "382  2010  Finland   6.85\n",
              "383  2011  Finland   6.76"
            ]
          },
          "execution_count": 54,
          "metadata": {},
          "output_type": "execute_result"
        }
      ],
      "source": [
        "edu.drop(max(edu.index), axis = 0, inplace = True)\n",
        "edu.tail()"
      ]
    },
    {
      "cell_type": "code",
      "execution_count": null,
      "metadata": {
        "id": "eNvMIpBrwULz",
        "outputId": "062424a1-a553-4b69-d932-76dba551b245"
      },
      "outputs": [
        {
          "data": {
            "text/html": [
              "<div>\n",
              "<style scoped>\n",
              "    .dataframe tbody tr th:only-of-type {\n",
              "        vertical-align: middle;\n",
              "    }\n",
              "\n",
              "    .dataframe tbody tr th {\n",
              "        vertical-align: top;\n",
              "    }\n",
              "\n",
              "    .dataframe thead th {\n",
              "        text-align: right;\n",
              "    }\n",
              "</style>\n",
              "<table border=\"1\" class=\"dataframe\">\n",
              "  <thead>\n",
              "    <tr style=\"text-align: right;\">\n",
              "      <th></th>\n",
              "      <th>TIME</th>\n",
              "      <th>GEO</th>\n",
              "      <th>Value</th>\n",
              "    </tr>\n",
              "  </thead>\n",
              "  <tbody>\n",
              "    <tr>\n",
              "      <th>2</th>\n",
              "      <td>2002</td>\n",
              "      <td>European Union (28 countries)</td>\n",
              "      <td>5.00</td>\n",
              "    </tr>\n",
              "    <tr>\n",
              "      <th>3</th>\n",
              "      <td>2003</td>\n",
              "      <td>European Union (28 countries)</td>\n",
              "      <td>5.03</td>\n",
              "    </tr>\n",
              "    <tr>\n",
              "      <th>4</th>\n",
              "      <td>2004</td>\n",
              "      <td>European Union (28 countries)</td>\n",
              "      <td>4.95</td>\n",
              "    </tr>\n",
              "    <tr>\n",
              "      <th>5</th>\n",
              "      <td>2005</td>\n",
              "      <td>European Union (28 countries)</td>\n",
              "      <td>4.92</td>\n",
              "    </tr>\n",
              "    <tr>\n",
              "      <th>6</th>\n",
              "      <td>2006</td>\n",
              "      <td>European Union (28 countries)</td>\n",
              "      <td>4.91</td>\n",
              "    </tr>\n",
              "  </tbody>\n",
              "</table>\n",
              "</div>"
            ],
            "text/plain": [
              "   TIME                            GEO  Value\n",
              "2  2002  European Union (28 countries)   5.00\n",
              "3  2003  European Union (28 countries)   5.03\n",
              "4  2004  European Union (28 countries)   4.95\n",
              "5  2005  European Union (28 countries)   4.92\n",
              "6  2006  European Union (28 countries)   4.91"
            ]
          },
          "execution_count": 55,
          "metadata": {},
          "output_type": "execute_result"
        }
      ],
      "source": [
        "eduDrop = edu[~edu[\"Value\"].isnull()].copy()\n",
        "eduDrop.head()"
      ]
    },
    {
      "cell_type": "code",
      "execution_count": null,
      "metadata": {
        "id": "Z9pImTxdwULz",
        "outputId": "f69a6121-85ee-4489-eff4-4a95ce1d05b3"
      },
      "outputs": [
        {
          "data": {
            "text/html": [
              "<div>\n",
              "<style scoped>\n",
              "    .dataframe tbody tr th:only-of-type {\n",
              "        vertical-align: middle;\n",
              "    }\n",
              "\n",
              "    .dataframe tbody tr th {\n",
              "        vertical-align: top;\n",
              "    }\n",
              "\n",
              "    .dataframe thead th {\n",
              "        text-align: right;\n",
              "    }\n",
              "</style>\n",
              "<table border=\"1\" class=\"dataframe\">\n",
              "  <thead>\n",
              "    <tr style=\"text-align: right;\">\n",
              "      <th></th>\n",
              "      <th>TIME</th>\n",
              "      <th>GEO</th>\n",
              "      <th>Value</th>\n",
              "    </tr>\n",
              "  </thead>\n",
              "  <tbody>\n",
              "    <tr>\n",
              "      <th>2</th>\n",
              "      <td>2002</td>\n",
              "      <td>European Union (28 countries)</td>\n",
              "      <td>5.00</td>\n",
              "    </tr>\n",
              "    <tr>\n",
              "      <th>3</th>\n",
              "      <td>2003</td>\n",
              "      <td>European Union (28 countries)</td>\n",
              "      <td>5.03</td>\n",
              "    </tr>\n",
              "    <tr>\n",
              "      <th>4</th>\n",
              "      <td>2004</td>\n",
              "      <td>European Union (28 countries)</td>\n",
              "      <td>4.95</td>\n",
              "    </tr>\n",
              "    <tr>\n",
              "      <th>5</th>\n",
              "      <td>2005</td>\n",
              "      <td>European Union (28 countries)</td>\n",
              "      <td>4.92</td>\n",
              "    </tr>\n",
              "    <tr>\n",
              "      <th>6</th>\n",
              "      <td>2006</td>\n",
              "      <td>European Union (28 countries)</td>\n",
              "      <td>4.91</td>\n",
              "    </tr>\n",
              "  </tbody>\n",
              "</table>\n",
              "</div>"
            ],
            "text/plain": [
              "   TIME                            GEO  Value\n",
              "2  2002  European Union (28 countries)   5.00\n",
              "3  2003  European Union (28 countries)   5.03\n",
              "4  2004  European Union (28 countries)   4.95\n",
              "5  2005  European Union (28 countries)   4.92\n",
              "6  2006  European Union (28 countries)   4.91"
            ]
          },
          "execution_count": 56,
          "metadata": {},
          "output_type": "execute_result"
        }
      ],
      "source": [
        "eduDrop = edu.dropna(how = 'any', subset = [\"Value\"])\n",
        "eduDrop.head()"
      ]
    },
    {
      "cell_type": "code",
      "execution_count": null,
      "metadata": {
        "id": "lm3XavmgwULz",
        "outputId": "46273ef5-400f-41d4-c0fb-de3043db69d2"
      },
      "outputs": [
        {
          "data": {
            "text/html": [
              "<div>\n",
              "<style scoped>\n",
              "    .dataframe tbody tr th:only-of-type {\n",
              "        vertical-align: middle;\n",
              "    }\n",
              "\n",
              "    .dataframe tbody tr th {\n",
              "        vertical-align: top;\n",
              "    }\n",
              "\n",
              "    .dataframe thead th {\n",
              "        text-align: right;\n",
              "    }\n",
              "</style>\n",
              "<table border=\"1\" class=\"dataframe\">\n",
              "  <thead>\n",
              "    <tr style=\"text-align: right;\">\n",
              "      <th></th>\n",
              "      <th>TIME</th>\n",
              "      <th>GEO</th>\n",
              "      <th>Value</th>\n",
              "    </tr>\n",
              "  </thead>\n",
              "  <tbody>\n",
              "    <tr>\n",
              "      <th>0</th>\n",
              "      <td>2000</td>\n",
              "      <td>European Union (28 countries)</td>\n",
              "      <td>0.00</td>\n",
              "    </tr>\n",
              "    <tr>\n",
              "      <th>1</th>\n",
              "      <td>2001</td>\n",
              "      <td>European Union (28 countries)</td>\n",
              "      <td>0.00</td>\n",
              "    </tr>\n",
              "    <tr>\n",
              "      <th>2</th>\n",
              "      <td>2002</td>\n",
              "      <td>European Union (28 countries)</td>\n",
              "      <td>5.00</td>\n",
              "    </tr>\n",
              "    <tr>\n",
              "      <th>3</th>\n",
              "      <td>2003</td>\n",
              "      <td>European Union (28 countries)</td>\n",
              "      <td>5.03</td>\n",
              "    </tr>\n",
              "    <tr>\n",
              "      <th>4</th>\n",
              "      <td>2004</td>\n",
              "      <td>European Union (28 countries)</td>\n",
              "      <td>4.95</td>\n",
              "    </tr>\n",
              "  </tbody>\n",
              "</table>\n",
              "</div>"
            ],
            "text/plain": [
              "   TIME                            GEO  Value\n",
              "0  2000  European Union (28 countries)   0.00\n",
              "1  2001  European Union (28 countries)   0.00\n",
              "2  2002  European Union (28 countries)   5.00\n",
              "3  2003  European Union (28 countries)   5.03\n",
              "4  2004  European Union (28 countries)   4.95"
            ]
          },
          "execution_count": 57,
          "metadata": {},
          "output_type": "execute_result"
        }
      ],
      "source": [
        "eduFilled = edu.fillna(value = {\"Value\": 0})\n",
        "eduFilled.head()"
      ]
    },
    {
      "cell_type": "code",
      "execution_count": null,
      "metadata": {
        "id": "zGldsE1uwULz",
        "outputId": "262225db-ee27-40d7-fd66-81acd8c49d4b"
      },
      "outputs": [
        {
          "data": {
            "text/html": [
              "<div>\n",
              "<style scoped>\n",
              "    .dataframe tbody tr th:only-of-type {\n",
              "        vertical-align: middle;\n",
              "    }\n",
              "\n",
              "    .dataframe tbody tr th {\n",
              "        vertical-align: top;\n",
              "    }\n",
              "\n",
              "    .dataframe thead th {\n",
              "        text-align: right;\n",
              "    }\n",
              "</style>\n",
              "<table border=\"1\" class=\"dataframe\">\n",
              "  <thead>\n",
              "    <tr style=\"text-align: right;\">\n",
              "      <th></th>\n",
              "      <th>TIME</th>\n",
              "      <th>GEO</th>\n",
              "      <th>Value</th>\n",
              "    </tr>\n",
              "  </thead>\n",
              "  <tbody>\n",
              "    <tr>\n",
              "      <th>130</th>\n",
              "      <td>2010</td>\n",
              "      <td>Denmark</td>\n",
              "      <td>8.81</td>\n",
              "    </tr>\n",
              "    <tr>\n",
              "      <th>131</th>\n",
              "      <td>2011</td>\n",
              "      <td>Denmark</td>\n",
              "      <td>8.75</td>\n",
              "    </tr>\n",
              "    <tr>\n",
              "      <th>129</th>\n",
              "      <td>2009</td>\n",
              "      <td>Denmark</td>\n",
              "      <td>8.74</td>\n",
              "    </tr>\n",
              "    <tr>\n",
              "      <th>121</th>\n",
              "      <td>2001</td>\n",
              "      <td>Denmark</td>\n",
              "      <td>8.44</td>\n",
              "    </tr>\n",
              "    <tr>\n",
              "      <th>122</th>\n",
              "      <td>2002</td>\n",
              "      <td>Denmark</td>\n",
              "      <td>8.44</td>\n",
              "    </tr>\n",
              "  </tbody>\n",
              "</table>\n",
              "</div>"
            ],
            "text/plain": [
              "     TIME      GEO  Value\n",
              "130  2010  Denmark   8.81\n",
              "131  2011  Denmark   8.75\n",
              "129  2009  Denmark   8.74\n",
              "121  2001  Denmark   8.44\n",
              "122  2002  Denmark   8.44"
            ]
          },
          "execution_count": 58,
          "metadata": {},
          "output_type": "execute_result"
        }
      ],
      "source": [
        "edu.sort_values(by = 'Value', ascending = False,\n",
        "                inplace = True)\n",
        "edu.head()"
      ]
    },
    {
      "cell_type": "code",
      "execution_count": null,
      "metadata": {
        "id": "5mk0VWPhwULz",
        "outputId": "61091bff-4e7a-4a10-aca4-938535ab1a25"
      },
      "outputs": [
        {
          "data": {
            "text/html": [
              "<div>\n",
              "<style scoped>\n",
              "    .dataframe tbody tr th:only-of-type {\n",
              "        vertical-align: middle;\n",
              "    }\n",
              "\n",
              "    .dataframe tbody tr th {\n",
              "        vertical-align: top;\n",
              "    }\n",
              "\n",
              "    .dataframe thead th {\n",
              "        text-align: right;\n",
              "    }\n",
              "</style>\n",
              "<table border=\"1\" class=\"dataframe\">\n",
              "  <thead>\n",
              "    <tr style=\"text-align: right;\">\n",
              "      <th></th>\n",
              "      <th>TIME</th>\n",
              "      <th>GEO</th>\n",
              "      <th>Value</th>\n",
              "    </tr>\n",
              "  </thead>\n",
              "  <tbody>\n",
              "    <tr>\n",
              "      <th>0</th>\n",
              "      <td>2000</td>\n",
              "      <td>European Union (28 countries)</td>\n",
              "      <td>NaN</td>\n",
              "    </tr>\n",
              "    <tr>\n",
              "      <th>1</th>\n",
              "      <td>2001</td>\n",
              "      <td>European Union (28 countries)</td>\n",
              "      <td>NaN</td>\n",
              "    </tr>\n",
              "    <tr>\n",
              "      <th>2</th>\n",
              "      <td>2002</td>\n",
              "      <td>European Union (28 countries)</td>\n",
              "      <td>5.00</td>\n",
              "    </tr>\n",
              "    <tr>\n",
              "      <th>3</th>\n",
              "      <td>2003</td>\n",
              "      <td>European Union (28 countries)</td>\n",
              "      <td>5.03</td>\n",
              "    </tr>\n",
              "    <tr>\n",
              "      <th>4</th>\n",
              "      <td>2004</td>\n",
              "      <td>European Union (28 countries)</td>\n",
              "      <td>4.95</td>\n",
              "    </tr>\n",
              "  </tbody>\n",
              "</table>\n",
              "</div>"
            ],
            "text/plain": [
              "   TIME                            GEO  Value\n",
              "0  2000  European Union (28 countries)    NaN\n",
              "1  2001  European Union (28 countries)    NaN\n",
              "2  2002  European Union (28 countries)   5.00\n",
              "3  2003  European Union (28 countries)   5.03\n",
              "4  2004  European Union (28 countries)   4.95"
            ]
          },
          "execution_count": 59,
          "metadata": {},
          "output_type": "execute_result"
        }
      ],
      "source": [
        "edu.sort_index(axis = 0, ascending = True, inplace = True)\n",
        "edu.head()"
      ]
    },
    {
      "cell_type": "code",
      "execution_count": null,
      "metadata": {
        "id": "3dOeF3SZwULz",
        "outputId": "08211e02-3d8f-4b9a-ad4a-fd78b62de10c"
      },
      "outputs": [
        {
          "data": {
            "text/html": [
              "<div>\n",
              "<style scoped>\n",
              "    .dataframe tbody tr th:only-of-type {\n",
              "        vertical-align: middle;\n",
              "    }\n",
              "\n",
              "    .dataframe tbody tr th {\n",
              "        vertical-align: top;\n",
              "    }\n",
              "\n",
              "    .dataframe thead th {\n",
              "        text-align: right;\n",
              "    }\n",
              "</style>\n",
              "<table border=\"1\" class=\"dataframe\">\n",
              "  <thead>\n",
              "    <tr style=\"text-align: right;\">\n",
              "      <th></th>\n",
              "      <th>Value</th>\n",
              "    </tr>\n",
              "    <tr>\n",
              "      <th>GEO</th>\n",
              "      <th></th>\n",
              "    </tr>\n",
              "  </thead>\n",
              "  <tbody>\n",
              "    <tr>\n",
              "      <th>Austria</th>\n",
              "      <td>5.618333</td>\n",
              "    </tr>\n",
              "    <tr>\n",
              "      <th>Belgium</th>\n",
              "      <td>6.189091</td>\n",
              "    </tr>\n",
              "    <tr>\n",
              "      <th>Bulgaria</th>\n",
              "      <td>4.093333</td>\n",
              "    </tr>\n",
              "    <tr>\n",
              "      <th>Cyprus</th>\n",
              "      <td>7.023333</td>\n",
              "    </tr>\n",
              "    <tr>\n",
              "      <th>Czech Republic</th>\n",
              "      <td>4.168333</td>\n",
              "    </tr>\n",
              "  </tbody>\n",
              "</table>\n",
              "</div>"
            ],
            "text/plain": [
              "                   Value\n",
              "GEO                     \n",
              "Austria         5.618333\n",
              "Belgium         6.189091\n",
              "Bulgaria        4.093333\n",
              "Cyprus          7.023333\n",
              "Czech Republic  4.168333"
            ]
          },
          "execution_count": 60,
          "metadata": {},
          "output_type": "execute_result"
        }
      ],
      "source": [
        "group = edu[[\"GEO\", \"Value\"]].groupby('GEO').mean()\n",
        "group.head()"
      ]
    },
    {
      "cell_type": "code",
      "execution_count": null,
      "metadata": {
        "id": "eoj900yfwULz",
        "outputId": "0293b22a-e2b5-465b-9b2c-a36749b690db"
      },
      "outputs": [
        {
          "data": {
            "text/html": [
              "<div>\n",
              "<style scoped>\n",
              "    .dataframe tbody tr th:only-of-type {\n",
              "        vertical-align: middle;\n",
              "    }\n",
              "\n",
              "    .dataframe tbody tr th {\n",
              "        vertical-align: top;\n",
              "    }\n",
              "\n",
              "    .dataframe thead th {\n",
              "        text-align: right;\n",
              "    }\n",
              "</style>\n",
              "<table border=\"1\" class=\"dataframe\">\n",
              "  <thead>\n",
              "    <tr style=\"text-align: right;\">\n",
              "      <th>TIME</th>\n",
              "      <th>2006</th>\n",
              "      <th>2007</th>\n",
              "      <th>2008</th>\n",
              "      <th>2009</th>\n",
              "      <th>2010</th>\n",
              "      <th>2011</th>\n",
              "    </tr>\n",
              "    <tr>\n",
              "      <th>GEO</th>\n",
              "      <th></th>\n",
              "      <th></th>\n",
              "      <th></th>\n",
              "      <th></th>\n",
              "      <th></th>\n",
              "      <th></th>\n",
              "    </tr>\n",
              "  </thead>\n",
              "  <tbody>\n",
              "    <tr>\n",
              "      <th>Austria</th>\n",
              "      <td>5.40</td>\n",
              "      <td>5.33</td>\n",
              "      <td>5.47</td>\n",
              "      <td>5.98</td>\n",
              "      <td>5.91</td>\n",
              "      <td>5.80</td>\n",
              "    </tr>\n",
              "    <tr>\n",
              "      <th>Belgium</th>\n",
              "      <td>5.98</td>\n",
              "      <td>6.00</td>\n",
              "      <td>6.43</td>\n",
              "      <td>6.57</td>\n",
              "      <td>6.58</td>\n",
              "      <td>6.55</td>\n",
              "    </tr>\n",
              "    <tr>\n",
              "      <th>Bulgaria</th>\n",
              "      <td>4.04</td>\n",
              "      <td>3.88</td>\n",
              "      <td>4.44</td>\n",
              "      <td>4.58</td>\n",
              "      <td>4.10</td>\n",
              "      <td>3.82</td>\n",
              "    </tr>\n",
              "    <tr>\n",
              "      <th>Cyprus</th>\n",
              "      <td>7.02</td>\n",
              "      <td>6.95</td>\n",
              "      <td>7.45</td>\n",
              "      <td>7.98</td>\n",
              "      <td>7.92</td>\n",
              "      <td>7.87</td>\n",
              "    </tr>\n",
              "    <tr>\n",
              "      <th>Czech Republic</th>\n",
              "      <td>4.42</td>\n",
              "      <td>4.05</td>\n",
              "      <td>3.92</td>\n",
              "      <td>4.36</td>\n",
              "      <td>4.25</td>\n",
              "      <td>4.51</td>\n",
              "    </tr>\n",
              "  </tbody>\n",
              "</table>\n",
              "</div>"
            ],
            "text/plain": [
              "TIME            2006  2007  2008  2009  2010  2011\n",
              "GEO                                               \n",
              "Austria         5.40  5.33  5.47  5.98  5.91  5.80\n",
              "Belgium         5.98  6.00  6.43  6.57  6.58  6.55\n",
              "Bulgaria        4.04  3.88  4.44  4.58  4.10  3.82\n",
              "Cyprus          7.02  6.95  7.45  7.98  7.92  7.87\n",
              "Czech Republic  4.42  4.05  3.92  4.36  4.25  4.51"
            ]
          },
          "execution_count": 61,
          "metadata": {},
          "output_type": "execute_result"
        }
      ],
      "source": [
        "filtered_data = edu[edu[\"TIME\"] > 2005]\n",
        "pivedu = pd.pivot_table(filtered_data, values = 'Value',\n",
        "                        index = ['GEO'], columns = ['TIME'])\n",
        "pivedu.head()"
      ]
    },
    {
      "cell_type": "code",
      "execution_count": null,
      "metadata": {
        "id": "8YXBoy3swULz",
        "outputId": "27f9291d-cba9-455e-f305-eb65eae86eb2"
      },
      "outputs": [
        {
          "data": {
            "text/html": [
              "<div>\n",
              "<style scoped>\n",
              "    .dataframe tbody tr th:only-of-type {\n",
              "        vertical-align: middle;\n",
              "    }\n",
              "\n",
              "    .dataframe tbody tr th {\n",
              "        vertical-align: top;\n",
              "    }\n",
              "\n",
              "    .dataframe thead th {\n",
              "        text-align: right;\n",
              "    }\n",
              "</style>\n",
              "<table border=\"1\" class=\"dataframe\">\n",
              "  <thead>\n",
              "    <tr style=\"text-align: right;\">\n",
              "      <th>TIME</th>\n",
              "      <th>2006</th>\n",
              "      <th>2011</th>\n",
              "    </tr>\n",
              "    <tr>\n",
              "      <th>GEO</th>\n",
              "      <th></th>\n",
              "      <th></th>\n",
              "    </tr>\n",
              "  </thead>\n",
              "  <tbody>\n",
              "    <tr>\n",
              "      <th>Spain</th>\n",
              "      <td>4.26</td>\n",
              "      <td>4.82</td>\n",
              "    </tr>\n",
              "    <tr>\n",
              "      <th>Portugal</th>\n",
              "      <td>5.07</td>\n",
              "      <td>5.27</td>\n",
              "    </tr>\n",
              "  </tbody>\n",
              "</table>\n",
              "</div>"
            ],
            "text/plain": [
              "TIME      2006  2011\n",
              "GEO                 \n",
              "Spain     4.26  4.82\n",
              "Portugal  5.07  5.27"
            ]
          },
          "execution_count": 62,
          "metadata": {},
          "output_type": "execute_result"
        }
      ],
      "source": [
        "pivedu.loc[['Spain','Portugal'], [2006,2011]]"
      ]
    },
    {
      "cell_type": "markdown",
      "metadata": {
        "id": "ozHDrNJ8wULz"
      },
      "source": [
        "### 7) What do you observe regarding the parameter ascending=False?\n",
        "\n",
        "The parameter ascending=False in sorting functions (e.g., sort_values()) sorts the data in descending order instead of the default ascending order.\n",
        "\n",
        "\n",
        "When ascending=True (default), values are sorted from smallest to largest.\n",
        "When ascending=False, values are sorted from largest to smallest."
      ]
    },
    {
      "cell_type": "code",
      "execution_count": null,
      "metadata": {
        "id": "EXt0wEsVwUL0",
        "outputId": "7a6845a0-2f27-4872-cbdc-943f00797778"
      },
      "outputs": [
        {
          "data": {
            "text/html": [
              "<div>\n",
              "<style scoped>\n",
              "    .dataframe tbody tr th:only-of-type {\n",
              "        vertical-align: middle;\n",
              "    }\n",
              "\n",
              "    .dataframe tbody tr th {\n",
              "        vertical-align: top;\n",
              "    }\n",
              "\n",
              "    .dataframe thead th {\n",
              "        text-align: right;\n",
              "    }\n",
              "</style>\n",
              "<table border=\"1\" class=\"dataframe\">\n",
              "  <thead>\n",
              "    <tr style=\"text-align: right;\">\n",
              "      <th>TIME</th>\n",
              "      <th>2006</th>\n",
              "      <th>2007</th>\n",
              "      <th>2008</th>\n",
              "      <th>2009</th>\n",
              "      <th>2010</th>\n",
              "      <th>2011</th>\n",
              "    </tr>\n",
              "    <tr>\n",
              "      <th>GEO</th>\n",
              "      <th></th>\n",
              "      <th></th>\n",
              "      <th></th>\n",
              "      <th></th>\n",
              "      <th></th>\n",
              "      <th></th>\n",
              "    </tr>\n",
              "  </thead>\n",
              "  <tbody>\n",
              "    <tr>\n",
              "      <th>Austria</th>\n",
              "      <td>10.0</td>\n",
              "      <td>7.0</td>\n",
              "      <td>11.0</td>\n",
              "      <td>7.0</td>\n",
              "      <td>8.0</td>\n",
              "      <td>8.0</td>\n",
              "    </tr>\n",
              "    <tr>\n",
              "      <th>Belgium</th>\n",
              "      <td>5.0</td>\n",
              "      <td>4.0</td>\n",
              "      <td>3.0</td>\n",
              "      <td>4.0</td>\n",
              "      <td>5.0</td>\n",
              "      <td>5.0</td>\n",
              "    </tr>\n",
              "    <tr>\n",
              "      <th>Bulgaria</th>\n",
              "      <td>21.0</td>\n",
              "      <td>21.0</td>\n",
              "      <td>20.0</td>\n",
              "      <td>20.0</td>\n",
              "      <td>22.0</td>\n",
              "      <td>22.0</td>\n",
              "    </tr>\n",
              "    <tr>\n",
              "      <th>Cyprus</th>\n",
              "      <td>2.0</td>\n",
              "      <td>2.0</td>\n",
              "      <td>2.0</td>\n",
              "      <td>2.0</td>\n",
              "      <td>2.0</td>\n",
              "      <td>3.0</td>\n",
              "    </tr>\n",
              "    <tr>\n",
              "      <th>Czech Republic</th>\n",
              "      <td>19.0</td>\n",
              "      <td>20.0</td>\n",
              "      <td>21.0</td>\n",
              "      <td>21.0</td>\n",
              "      <td>20.0</td>\n",
              "      <td>19.0</td>\n",
              "    </tr>\n",
              "  </tbody>\n",
              "</table>\n",
              "</div>"
            ],
            "text/plain": [
              "TIME            2006  2007  2008  2009  2010  2011\n",
              "GEO                                               \n",
              "Austria         10.0   7.0  11.0   7.0   8.0   8.0\n",
              "Belgium          5.0   4.0   3.0   4.0   5.0   5.0\n",
              "Bulgaria        21.0  21.0  20.0  20.0  22.0  22.0\n",
              "Cyprus           2.0   2.0   2.0   2.0   2.0   3.0\n",
              "Czech Republic  19.0  20.0  21.0  21.0  20.0  19.0"
            ]
          },
          "execution_count": 63,
          "metadata": {},
          "output_type": "execute_result"
        }
      ],
      "source": [
        "pivedu = pivedu.drop(['Euro area (13 countries)',\n",
        "                    'Euro area (15 countries)',\n",
        "                    'Euro area (17 countries)',\n",
        "                    'Euro area (18 countries)',\n",
        "                    'European Union (25 countries)',\n",
        "                    'European Union (27 countries)',\n",
        "                    'European Union (28 countries)'\n",
        "                    ], axis=0)\n",
        "pivedu = pivedu.rename(\n",
        "    index={'Germany (until 1990 former territory of the FRG)': 'Germany'})\n",
        "pivedu = pivedu.dropna()\n",
        "pivedu.rank(ascending=False, method='first').head()"
      ]
    },
    {
      "cell_type": "code",
      "execution_count": null,
      "metadata": {
        "id": "ZuIoMVZgwUL0",
        "outputId": "9cb88064-cb67-4c6b-d41e-87897ba54d10"
      },
      "outputs": [
        {
          "data": {
            "text/plain": [
              "GEO\n",
              "Denmark    1.0\n",
              "Cyprus     2.0\n",
              "Finland    3.0\n",
              "Malta      4.0\n",
              "Belgium    5.0\n",
              "dtype: float64"
            ]
          },
          "execution_count": 64,
          "metadata": {},
          "output_type": "execute_result"
        }
      ],
      "source": [
        "totalSum = pivedu.sum(axis = 1)\n",
        "\n",
        "totalSum.rank(ascending = False, method = 'dense').sort_values().head()"
      ]
    },
    {
      "cell_type": "code",
      "execution_count": null,
      "metadata": {
        "id": "0LDeUV26wUL0",
        "outputId": "cea45b19-52d5-4025-8612-31f2aec49720"
      },
      "outputs": [
        {
          "data": {
            "text/plain": [
              "<Axes: title={'center': 'Total Values for Country'}, xlabel='GEO'>"
            ]
          },
          "execution_count": 65,
          "metadata": {},
          "output_type": "execute_result"
        },
        {
          "data": {
            "image/png": "[encoded data removed]",
            "text/plain": [
              "<Figure size 640x480 with 1 Axes>"
            ]
          },
          "metadata": {},
          "output_type": "display_data"
        }
      ],
      "source": [
        "totalSum = pivedu.sum(axis = 1).sort_values(ascending = False)\n",
        "totalSum.plot(kind = 'bar', style = 'b', alpha = 0.4,\n",
        "            title = \"Total Values for Country\")"
      ]
    },
    {
      "cell_type": "code",
      "execution_count": null,
      "metadata": {
        "id": "XFnjl3iIwUL0",
        "outputId": "99cc1d66-b3ca-4bf6-ded7-547921a6f327"
      },
      "outputs": [
        {
          "data": {
            "image/png": "[encoded data removed]",
            "text/plain": [
              "<Figure size 1200x600 with 1 Axes>"
            ]
          },
          "metadata": {},
          "output_type": "display_data"
        }
      ],
      "source": [
        "my_colors = ['b', 'r', 'g', 'y', 'm', 'c']\n",
        "ax = pivedu.plot(kind='barh', stacked=True, color=my_colors, figsize=(12, 6))\n",
        "ax.legend(loc='center left', bbox_to_anchor=(1, 0.5))\n",
        "plt.savefig('Value_Time_Country.png', dpi=300, bbox_inches='tight')"
      ]
    }
  ],
  "metadata": {
    "kernelspec": {
      "display_name": "base",
      "language": "python",
      "name": "python3"
    },
    "language_info": {
      "codemirror_mode": {
        "name": "ipython",
        "version": 3
      },
      "file_extension": ".py",
      "mimetype": "text/x-python",
      "name": "python",
      "nbconvert_exporter": "python",
      "pygments_lexer": "ipython3",
      "version": "3.11.5"
    },
    "colab": {
      "provenance": [],
      "include_colab_link": true
    }
  },
  "nbformat": 4,
  "nbformat_minor": 0
}